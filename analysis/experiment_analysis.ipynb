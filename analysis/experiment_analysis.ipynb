{
 "cells": [
  {
   "cell_type": "markdown",
   "metadata": {},
   "source": [
    "# RL Experiment Analysis and Visualization\n",
    "\n",
    "## Features:\n",
    "- Load and compare multiple experiment runs\n",
    "- Visualize training curves and performance metrics\n",
    "- Statistical analysis and comparison\n",
    "- Hyperparameter sensitivity analysis"
   ]
  },
  {
   "cell_type": "code",
   "execution_count": null,
   "metadata": {},
   "outputs": [],
   "source": [
    "from analysis_utils import (\n",
    "    ExperimentAnalyzer,\n",
    "    plot_training_curves,\n",
    "    create_performance_comparison,\n",
    "    analyze_learning_curves,\n",
    "    analyze_hyperparameters,\n",
    "    generate_statistical_summary,\n",
    "    save_analysis_results\n",
    ")\n",
    "\n",
    "import matplotlib.pyplot as plt\n",
    "import seaborn as sns\n",
    "import pandas as pd\n",
    "import numpy as np\n",
    "\n",
    "plt.style.use('seaborn-v0_8')\n",
    "sns.set_palette(\"husl\")\n",
    "pd.set_option('display.max_columns', None)\n",
    "pd.set_option('display.width', None)\n",
    "\n",
    "print(\"Analysis environment ready!\")"
   ]
  },
  {
   "cell_type": "markdown",
   "metadata": {},
   "source": [
    "## Configuration\n",
    "\n",
    "**Edit the experiment_folders list below to include the experiments you want to analyze:**"
   ]
  },
  {
   "cell_type": "code",
   "execution_count": null,
   "metadata": {},
   "outputs": [],
   "source": [
    "# Example: ['pg_CartPole-v1_27d81294', 'dqn_Breakout_016a60b0', 'pg_CartPole-v1_6b99d212']\n",
    "experiment_folders = [\n",
    "    'pg_CartPole-v1_27d81294',\n",
    "    'pg_CartPole-v1_6b99d212',\n",
    "    'pg_CartPole-v1_912bc20a',\n",
    "    # Add your experiment folders here\n",
    "]\n",
    "\n",
    "experiments_base_dir = '../experiments'\n",
    "\n",
    "print(f\"Will analyze {len(experiment_folders)} experiments:\")\n",
    "for folder in experiment_folders:\n",
    "    print(f\"  - {folder}\")"
   ]
  },
  {
   "cell_type": "markdown",
   "metadata": {},
   "source": [
    "## Load Experiments"
   ]
  },
  {
   "cell_type": "code",
   "execution_count": null,
   "metadata": {},
   "outputs": [],
   "source": [
    "analyzer = ExperimentAnalyzer(experiments_base_dir)\n",
    "experiments = analyzer.load_experiments(experiment_folders)\n",
    "\n",
    "print(f\"\\nSuccessfully loaded {len(experiments)} experiments:\")\n",
    "for name in experiments.keys():\n",
    "    print(f\"  - {name}\")"
   ]
  },
  {
   "cell_type": "markdown",
   "metadata": {},
   "source": [
    "## Experiment Overview"
   ]
  },
  {
   "cell_type": "code",
   "execution_count": null,
   "metadata": {},
   "outputs": [],
   "source": [
    "info_df = analyzer.get_experiment_info()\n",
    "print(\"Experiment Overview:\")\n",
    "print(\"=\" * 50)\n",
    "display(info_df)"
   ]
  },
  {
   "cell_type": "markdown",
   "metadata": {},
   "source": [
    "## Training Curves Visualization"
   ]
  },
  {
   "cell_type": "code",
   "execution_count": null,
   "metadata": {},
   "outputs": [],
   "source": [
    "plot_training_curves(experiments, metrics=['reward', 'loss'], smooth_window=20)"
   ]
  },
  {
   "cell_type": "markdown",
   "metadata": {},
   "source": [
    "## Performance Comparison"
   ]
  },
  {
   "cell_type": "code",
   "execution_count": null,
   "metadata": {},
   "outputs": [],
   "source": [
    "perf_comparison = create_performance_comparison(experiments)"
   ]
  },
  {
   "cell_type": "markdown",
   "metadata": {},
   "source": [
    "## Learning Curve Analysis"
   ]
  },
  {
   "cell_type": "code",
   "execution_count": null,
   "metadata": {},
   "outputs": [],
   "source": [
    "analyze_learning_curves(experiments, window_size=50)"
   ]
  },
  {
   "cell_type": "markdown",
   "metadata": {},
   "source": [
    "## Hyperparameter Analysis"
   ]
  },
  {
   "cell_type": "code",
   "execution_count": null,
   "metadata": {},
   "outputs": [],
   "source": [
    "hyperparam_analysis = analyze_hyperparameters(experiments)"
   ]
  },
  {
   "cell_type": "markdown",
   "metadata": {},
   "source": [
    "## Statistical Summary"
   ]
  },
  {
   "cell_type": "code",
   "execution_count": null,
   "metadata": {},
   "outputs": [],
   "source": [
    "statistical_summary = generate_statistical_summary(experiments)"
   ]
  }
 ],
 "metadata": {
  "kernelspec": {
   "display_name": "Python 3",
   "language": "python",
   "name": "python3"
  },
  "language_info": {
   "codemirror_mode": {
    "name": "ipython",
    "version": 3
   },
   "file_extension": ".py",
   "mimetype": "text/x-python",
   "name": "python",
   "nbconvert_exporter": "python",
   "pygments_lexer": "ipython3",
   "version": "3.8.0"
  }
 },
 "nbformat": 4,
 "nbformat_minor": 4
}
